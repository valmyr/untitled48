{
  "nbformat": 4,
  "nbformat_minor": 0,
  "metadata": {
    "colab": {
      "name": "Cópia de Untitled6.ipynb",
      "provenance": [],
      "collapsed_sections": [],
      "mount_file_id": "https://github.com/valmyr/untitled48/blob/master/Untitled6.ipynb",
      "authorship_tag": "ABX9TyO1Zp7+G02nU+5D12/ahqhZ",
      "include_colab_link": true
    },
    "kernelspec": {
      "name": "python3",
      "display_name": "Python 3"
    }
  },
  "cells": [
    {
      "cell_type": "markdown",
      "metadata": {
        "id": "view-in-github",
        "colab_type": "text"
      },
      "source": [
        "<a href=\"https://colab.research.google.com/github/valmyr/untitled48/blob/master/C%C3%B3pia_de_Untitled6.ipynb\" target=\"_parent\"><img src=\"https://colab.research.google.com/assets/colab-badge.svg\" alt=\"Open In Colab\"/></a>"
      ]
    },
    {
      "cell_type": "code",
      "metadata": {
        "id": "NZWCPdlXYQnS"
      },
      "source": [
        "import pandas as pd\n",
        "import numpy as np\n",
        "#dataframe  = pd.read_csv(\"/content/sample_data/q.txt\")\n",
        "dataframe = pd.read_csv(\"https://raw.githubusercontent.com/valmyr/v/master/Semin%C3%A1rio%20TP%20~%20(Templates%20e%20Heran%C3%A7a)/logs_IP_20201130-1001%20(1).csv\")\n",
        "#Ajuste da data e hora\n",
        "dataframe[\"Hora\"] = pd.to_datetime(dataframe[\"Hora\"])\n",
        "dataframe.insert(loc = 0,column=\"Data\",value= dataframe[\"Hora\"].dt.strftime(\"%d-%m-%Y\"))\n",
        "dataframe[\"Hora\"] = dataframe[\"Hora\"].dt.strftime(\"%H:%M\")\n",
        "dataframe.head()\n",
        "dataframe[\"Questionário\"] = dataframe.loc[dataframe[\"Componente\"] ==  \"Questionário\",\"Hora\"]\n",
        "#Quantidade de acessos por aluno\n",
        "dataframeQuantidadeDeAcessos = dataframe.groupby([dataframe['Data'],'Usuário afetado'])[[\"Usuário afetado\"]].count()\n",
        "dataframeQuantidadeDeAcessos = dataframeQuantidadeDeAcessos.rename(columns={\"Usuário afetado\":\"Quantidade de acessos\"})\n",
        "#Quantidade de Interações por aluno\n",
        "dataframeQuantidadeDeInteracoes  =  dataframe.groupby([dataframe['Contexto do Evento'],'Usuário afetado'])[[\"Contexto do Evento\"]].count()\n",
        "dataframeQuantidadeDeInteracoes = dataframeQuantidadeDeInteracoes.rename(columns={\"Contexto do Evento\":\"Quantidade de Interações\"})\n",
        "\n",
        "dataframeTempoTotal = dataframe.groupby([dataframe[\"Data\"],\"Usuário afetado\",\"Contexto do Evento\",\"Questionário\"])[\"Data\"].count()\n",
        "dataframeTempoTotal.to_csv(\"QuantidadeDeAcessos.csv\")\n",
        "# Exportando Dados\n",
        "dataframeQuantidadeDeAcessos.to_csv(\"QuantidadeDeAcessos.csv\")\n",
        "dataframeQuantidadeDeInteracoes.to_csv(\"QuantidadedeInteraoe1s.txt\")"
      ],
      "execution_count": 31,
      "outputs": []
    },
    {
      "cell_type": "code",
      "metadata": {
        "id": "g2pkfYvvNSFJ"
      },
      "source": [
        ""
      ],
      "execution_count": null,
      "outputs": []
    }
  ]
}