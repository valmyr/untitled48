{
  "nbformat": 4,
  "nbformat_minor": 0,
  "metadata": {
    "colab": {
      "name": "Cópia de Untitled6.ipynb",
      "provenance": [],
      "collapsed_sections": [],
      "mount_file_id": "https://github.com/valmyr/untitled48/blob/master/Untitled6.ipynb",
      "authorship_tag": "ABX9TyN+lm8RYLKMCxNWY2CZcpXQ",
      "include_colab_link": true
    },
    "kernelspec": {
      "name": "python3",
      "display_name": "Python 3"
    }
  },
  "cells": [
    {
      "cell_type": "markdown",
      "metadata": {
        "id": "view-in-github",
        "colab_type": "text"
      },
      "source": [
        "<a href=\"https://colab.research.google.com/github/valmyr/untitled48/blob/master/C%C3%B3pia_de_Untitled6.ipynb\" target=\"_parent\"><img src=\"https://colab.research.google.com/assets/colab-badge.svg\" alt=\"Open In Colab\"/></a>"
      ]
    },
    {
      "cell_type": "code",
      "metadata": {
        "colab": {
          "base_uri": "https://localhost:8080/"
        },
        "id": "NZWCPdlXYQnS",
        "outputId": "639e69b7-4831-4cae-ef22-e75316904efd"
      },
      "source": [
        "import pandas as pd\n",
        "import numpy as np\n",
        "#dataframe  = pd.read_csv(\"/content/sample_data/q.txt\")\n",
        "dataframe = pd.read_csv(\"https://raw.githubusercontent.com/valmyr/v/master/Semin%C3%A1rio%20TP%20~%20(Templates%20e%20Heran%C3%A7a)/logs_IP_20201130-1001%20(1).csv\")\n",
        "#Ajuste da data e hora\n",
        "def tratarDataHora(Hora):\n",
        "  aux = Hora.str.split()\n",
        "  return aux\n",
        "def questionario(d):\n",
        "  if(\"Tentativa do questionário\" in d):\n",
        "    return d\n",
        "  return \n",
        "  #print(d)\n",
        "def hr(f):\n",
        "    print(f)\n",
        "\n",
        "dataframe.insert(loc = 0,column=\"Data\",value= tratarDataHora(dataframe[\"Hora\"]).str.get(0))\n",
        "dataframe[\"Hora\"] = tratarDataHora(dataframe[\"Hora\"]).str.get(1)\n",
        "dataframe.head()\n",
        "dataframe[\"qt\"] = dataframe[\"Nome do evento\"].apply(questionario)\n",
        "print(dataframe[\"qt\"])\n",
        "#Quantidade de acessos por aluno\n",
        "dataframeQuantidadeDeAcessos = dataframe.groupby([dataframe['Data'],'Usuário afetado'])[[\"Usuário afetado\"]].count()\n",
        "dataframeQuantidadeDeAcessos = dataframeQuantidadeDeAcessos.rename(columns={\"Usuário afetado\":\"Quantidade de acessos\"})\n",
        "#Quantidade de Interações por aluno\n",
        "dataframeQuantidadeDeInteracoes  =  dataframe.groupby([dataframe['Contexto do Evento'],'Usuário afetado'])[[\"Contexto do Evento\"]].count()\n",
        "dataframeQuantidadeDeInteracoes = dataframeQuantidadeDeInteracoes.rename(columns={\"Contexto do Evento\":\"Quantidade de Interações\"})\n",
        "dataframeTempoTotal =dataframe.groupby([dataframe['Usuário afetado'],'qt','Hora'])['Hora'].count()\n",
        "print(dataframeQuantidadeDeAcessos)\n",
        "print(dataframeQuantidadeDeInteracoes)\n",
        "dataframeTempoTotal.to_csv(\"QuantidadeDeAcessos.csv\")\n",
        "#Exportando Dados\n",
        "dataframeTempoTotal.to_csv(\"aa.csv\")\n",
        "dataframeQuantidadeDeAcessos.to_csv(\"QuantidadeDeAcessos.csv\")\n",
        "dataframeQuantidadeDeInteracoes.to_csv(\"QuantidadedeInteraoe1s.txt\")"
      ],
      "execution_count": 151,
      "outputs": [
        {
          "output_type": "stream",
          "text": [
            "0         None\n",
            "1         None\n",
            "2         None\n",
            "3         None\n",
            "4         None\n",
            "          ... \n",
            "141079    None\n",
            "141080    None\n",
            "141081    None\n",
            "141082    None\n",
            "141083    None\n",
            "Name: qt, Length: 141084, dtype: object\n",
            "                                            Quantidade de acessos\n",
            "Data      Usuário afetado                                        \n",
            "1/09/2020 -                                                   204\n",
            "          ADSON VITAL CORREIA                                   5\n",
            "          ALEXSANDER NUNES DA SILVA SANTOS                     11\n",
            "          ANA BEATRIZ GOMES BARBOSA                             6\n",
            "          ANDRIELE CALISTO SILVA                                3\n",
            "...                                                           ...\n",
            "9/11/2020 VICTOR ERIKO DE LIMA MACIEL                          11\n",
            "          VICTOR GOMES DE FREITAS BORGE                        22\n",
            "          VITOR IAN DE BRITO SIMPLICIO                          8\n",
            "          VITORIA EDUARDA TEODORIO RAFAEL                      11\n",
            "          WESLEY OLIVEIRA DE ALMEIDA                            8\n",
            "\n",
            "[11366 rows x 1 columns]\n",
            "                                                                                     Quantidade de Interações\n",
            "Contexto do Evento                                 Usuário afetado                                           \n",
            "Arquivo: Vídeo-tutorial sobre como criar um nov... -                                                        2\n",
            "Arquivo: [APOSTILA] Introdução à Programação co... -                                                        1\n",
            "Curso: IP Introdução à Programação                 -                                                    13393\n",
            "                                                   ADSON VITAL CORREIA                                    554\n",
            "                                                   ALEXSANDER NUNES DA SILVA SANTOS                       617\n",
            "...                                                                                                       ...\n",
            "URL: [VÍDEO] Como usar os Fóruns de Discussão s... VITOR IAN DE BRITO SIMPLICIO                             2\n",
            "                                                   VITORIA EDUARDA TEODORIO RAFAEL                          2\n",
            "                                                   WESLEY OLIVEIRA DE ALMEIDA                               2\n",
            "URL: [VÍDEO] Instalação do Python no Windows       -                                                        2\n",
            "URL: [VÍDEO] Utilizando o IDLE para programar      -                                                        2\n",
            "\n",
            "[12419 rows x 1 columns]\n"
          ],
          "name": "stdout"
        }
      ]
    }
  ]
}